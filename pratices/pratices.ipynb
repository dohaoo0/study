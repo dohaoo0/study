{
 "cells": [
  {
   "cell_type": "code",
   "execution_count": 14,
   "metadata": {},
   "outputs": [
    {
     "name": "stdout",
     "output_type": "stream",
     "text": [
      "bai 29: tim max va chi so cua max\n"
     ]
    },
    {
     "ename": "ValueError",
     "evalue": "invalid literal for int() with base 10: ''",
     "output_type": "error",
     "traceback": [
      "\u001b[1;31m---------------------------------------------------------------------------\u001b[0m",
      "\u001b[1;31mValueError\u001b[0m                                Traceback (most recent call last)",
      "Cell \u001b[1;32mIn[14], line 3\u001b[0m\n\u001b[0;32m      1\u001b[0m \u001b[39mprint\u001b[39m(\u001b[39m'\u001b[39m\u001b[39mbai 29: tim max va chi so cua max\u001b[39m\u001b[39m'\u001b[39m)\n\u001b[0;32m      2\u001b[0m a\u001b[39m=\u001b[39m[]\n\u001b[1;32m----> 3\u001b[0m n\u001b[39m=\u001b[39m\u001b[39mint\u001b[39;49m(\u001b[39minput\u001b[39;49m(\u001b[39m'\u001b[39;49m\u001b[39mnhap n: \u001b[39;49m\u001b[39m'\u001b[39;49m))\n\u001b[0;32m      4\u001b[0m \u001b[39mprint\u001b[39m(\u001b[39m'\u001b[39m\u001b[39mday co \u001b[39m\u001b[39m{}\u001b[39;00m\u001b[39m so thuc\u001b[39m\u001b[39m'\u001b[39m\u001b[39m.\u001b[39mformat(n))\n\u001b[0;32m      5\u001b[0m \u001b[39mfor\u001b[39;00m i \u001b[39min\u001b[39;00m \u001b[39mrange\u001b[39m (\u001b[39m1\u001b[39m, n\u001b[39m+\u001b[39m\u001b[39m1\u001b[39m):\n",
      "\u001b[1;31mValueError\u001b[0m: invalid literal for int() with base 10: ''"
     ]
    }
   ],
   "source": [
    "print('bai 29: tim max va chi so cua max')\n",
    "a=[]\n",
    "n=int(input('nhap n: '))\n",
    "print('day co {} so thuc'.format(n))\n",
    "for i in range (1, n+1):\n",
    "    x=int(input('nhap x: '))\n",
    "    print('nhap so thu {}: {} '.format(i, x))\n",
    "    a.append(x)\n",
    "print(a)\n",
    "max=a[0]\n",
    "chiso=0\n",
    "for j in range(1,n):\n",
    "    if max<a[j]:\n",
    "        max=a[j]\n",
    "        chiso=j\n",
    "\n",
    "print('so lon nhat la: ', max)\n",
    "print('chi so cua so lon nhat la: ',chiso)\n",
    "\n"
   ]
  },
  {
   "cell_type": "code",
   "execution_count": null,
   "metadata": {},
   "outputs": [
    {
     "name": "stdout",
     "output_type": "stream",
     "text": [
      "bai 30: sap xep mang tang dan\n",
      "nhap mang co 4 phan tu\n",
      "nhap so thu 1: 12\n",
      "nhap so thu 2: 4\n",
      "nhap so thu 3: 23\n",
      "nhap so thu 4: 5\n",
      "day ban dau la:  [12, 4, 23, 5]\n",
      "[4, 5, 12, 23]\n"
     ]
    }
   ],
   "source": [
    "print('bai 30: sap xep mang tang dan')\n",
    "a=[]\n",
    "n= int(input())\n",
    "print('nhap mang co {} phan tu'.format(n))\n",
    "for i in range(1,n+1):\n",
    "    x=int(input())\n",
    "    print('nhap so thu {}: {}'.format(i,x))\n",
    "    a.append(x)\n",
    "print('day ban dau la: ',a)\n",
    "for u in range (n-1) :\n",
    "    for j in range (u+1, n):\n",
    "        if a[u]>a[j]:\n",
    "            d=a[u]\n",
    "            a[u]=a[j]\n",
    "            a[j]=d\n",
    "print('day sau khi sap xep', a)\n",
    "#có thể dùng hàm sort thay cho các câu lệnh từ dòng 10 (sắp xếp)\n"
   ]
  },
  {
   "cell_type": "code",
   "execution_count": null,
   "metadata": {},
   "outputs": [
    {
     "name": "stdout",
     "output_type": "stream",
     "text": [
      "bai 31: tim kiem nhi phan\n",
      "day co 3 phan tu\n",
      "so can tim la:  12\n",
      "day ban dau la:  [12, 3, 4, 12]\n",
      "chi so cua so can tim la:  2\n",
      "day sau khi sap xep la:  [3, 4, 12, 12]\n"
     ]
    }
   ],
   "source": [
    "print('bai 31: tim kiem nhi phan')\n",
    "# idea: tìm một số trong mảng, có n phần tử, chia mảng thành 2 phần, xem số cần tìm k nằm phía bên nào, ví dụ nằm bên trái thì lại chia vế trái thành 2 phần, cứ như vậy cho đến hết mảng.\n",
    "#tìm kiêms nhị phân sẽ tối ưu thời gian cho những mảng dài, nhiều phần tử\n",
    "# trước khi tìm kiếm bắt buộc phải sắp xếp bằng hàm sort\n",
    "n= int(input('nhap so phan tu mang'))\n",
    "print('day co {} phan tu'.format(n))\n",
    "a=[]\n",
    "k=int(input('nhap so can tim'))\n",
    "print('so can tim la: ',k)\n",
    "for i in range (n+1):\n",
    "    x=int(input('nhap cac phan tu'))\n",
    "    a.append(x)\n",
    "cuoi=n-1\n",
    "dau = 0\n",
    "print('day ban dau la: ',a)\n",
    "a.sort()\n",
    "print('day sau khi sap xep la: ',a)\n",
    "i=1\n",
    "check=1\n",
    "while i<=n:\n",
    "    mid=(dau+cuoi)//2\n",
    "    if a[mid]==k:\n",
    "        check=0\n",
    "    elif a[mid]!=k:\n",
    "        if a[mid] <k:\n",
    "            dau= mid+1\n",
    "        else:\n",
    "            cuoi=mid-1\n",
    "    i+=1\n",
    "if check ==0:\n",
    "    print('chi so cua so can tim la: ',mid)\n",
    "else:\n",
    "    print('mang khong chua phan tu can tim')\n",
    "\n",
    "# a=list(set(m)) --> xóa đi những phần tử giống nhau\n"
   ]
  },
  {
   "cell_type": "code",
   "execution_count": null,
   "metadata": {},
   "outputs": [
    {
     "name": "stdout",
     "output_type": "stream",
     "text": [
      "bai 32: tim max va chi so cua so do dau tien\n",
      "mang co 3 phan tu\n",
      "so thu 0 la: 12\n",
      "so thu 1 la: 23\n",
      "so thu 2 la: 34\n",
      " mang ban dau la:  [12, 23, 34]\n",
      "so lon nhat trong mang la:  34\n",
      "chi so cua max la:  2\n"
     ]
    }
   ],
   "source": [
    "print('bai 33: tim max va chi so cua so do dau tien')\n",
    "a=[]\n",
    "k=0\n",
    "n=int(input('so phan tu mang: '))\n",
    "print('mang co {} phan tu'.format(n))\n",
    "for i in range (n):\n",
    "    x= int(input('nhap gia tri phan tu'))\n",
    "    print('so thu {} la: {}'.format(i,x))\n",
    "    a.append(x)\n",
    "print(' mang ban dau la: ',a)\n",
    "max=a[0]\n",
    "for i in range (n):\n",
    "    if a[i]> max:\n",
    "        max=a[i]\n",
    "        k=i\n",
    "print('so lon nhat trong mang la: ',max)\n",
    "print('chi so cua max la: ',k)"
   ]
  },
  {
   "cell_type": "code",
   "execution_count": null,
   "metadata": {},
   "outputs": [
    {
     "name": "stdout",
     "output_type": "stream",
     "text": [
      "bai 38: Chương trình in các phần tử của mảng có giá trị nhỏ hơn k? \n",
      "mang co 4 phan tu\n",
      "tim cac gia tri nho hon  45\n",
      "so thu 1 la: 34\n",
      "so thu 2 la: 12\n",
      "so thu 3 la: 34\n",
      "so thu 4 la: 54\n",
      "mang ban dau la:  [34, 12, 34, 54]\n",
      "cac gia tri nho hon 45 la: [34, 12, 34]\n"
     ]
    }
   ],
   "source": [
    "print('bai 38: Chương trình in các phần tử của mảng có giá trị nhỏ hơn k? ')\n",
    "a=[]\n",
    "p=[]\n",
    "n= int(input('nhap n'))\n",
    "print('mang co {} phan tu'.format(n))\n",
    "k= int(input('nhap k:'))\n",
    "print('tim cac gia tri nho hon ',k)\n",
    "for i in range(n):\n",
    "    x=int(input('nhap gia tri phan tu'))\n",
    "    print('so thu {} la: {}'.format(i+1,x))\n",
    "    a.append(x)\n",
    "    if a[i]<k:\n",
    "        p.append(a[i])\n",
    "print('mang ban dau la: ',a)\n",
    "print('cac gia tri nho hon {} la: {}'.format(k,p))"
   ]
  },
  {
   "cell_type": "code",
   "execution_count": null,
   "metadata": {},
   "outputs": [],
   "source": [
    "print('bai 45: Tính tổng dương, âm và số các phần tử bằng 0 của dãy số')\n",
    "a=[]\n",
    "S1=0\n",
    "S2=0\n",
    "S3=0\n",
    "x=int(input('nhap so phan tu list'))\n",
    "print('list co {} phan tu'.format(x))\n",
    "for i in range (1,n):\n",
    "    n= int(input())\n",
    "    print('nhap so thu ',i,': ', n)\n",
    "    a.append(n)\n",
    "    if n>0:\n",
    "        S1+=n\n",
    "    elif n<0:\n",
    "        S2+=n\n",
    "    else:\n",
    "        S3+=1\n",
    "print(a)\n",
    "print('tong cac phan tu duong la: ',S1)\n",
    "print('tong cac phan tu am: ',S2)\n",
    "print('so phan tu =0 la: ',S3)\n"
   ]
  },
  {
   "cell_type": "code",
   "execution_count": null,
   "metadata": {},
   "outputs": [
    {
     "name": "stdout",
     "output_type": "stream",
     "text": [
      "danh sach co 3 phan tu\n",
      "phan tu thu 0 la: 45\n",
      "phan tu thu 1 la: 23\n",
      "phan tu thu 2 la: 4\n",
      "[45, 23, 4]\n",
      "72\n",
      "2 so lon nhat la: 45 va 45\n"
     ]
    }
   ],
   "source": [
    "#  viết ct nhập vào một ds có k phânf tử sau đó in ra các thông tin sau\n",
    "#  a) 2 giá trị lớn nhất và khác nhau của ds\n",
    "# b) tbc của tất cả các giá trị max và min của ds\n",
    "k=int(input('nhap so phan tu'))\n",
    "print('danh sach co {} phan tu'.format(k))\n",
    "ds=[]\n",
    "for i in range(k):\n",
    "    x=int(input('nhap phan tu'))\n",
    "    print('phan tu thu {} la: {}'.format(i,x))\n",
    "    ds.append(x)\n",
    "print(ds)\n",
    "max1=ds[0]\n",
    "max2=ds[0]\n",
    "min=ds[0]\n",
    "dem=0\n",
    "tong=0\n",
    "#cách 1\n",
    "for i in ds:\n",
    "    if max1 <= i:\n",
    "        max1=i\n",
    "        dem+=1\n",
    "        tong+=i\n",
    "    if min >i:\n",
    "        min=i\n",
    "        dem+=1\n",
    "        tong+=i\n",
    "\n",
    "print(tong)\n",
    "\n",
    "for j in ds:\n",
    "    if max2<j and j!=max1:\n",
    "        max2=j\n",
    "    # if \n",
    "\n",
    "\n",
    "print('2 so lon nhat la: {} va {}'.format(max1, max2))\n",
    "\n",
    "\n"
   ]
  },
  {
   "cell_type": "code",
   "execution_count": null,
   "metadata": {},
   "outputs": [],
   "source": []
  },
  {
   "cell_type": "code",
   "execution_count": null,
   "metadata": {},
   "outputs": [
    {
     "name": "stdout",
     "output_type": "stream",
     "text": [
      "danh sach co 3 phan tu\n",
      "phan tu thu 0 la: 23\n",
      "phan tu thu 1 la: 4321\n",
      "phan tu thu 2 la: 4321\n",
      "[23, 4321, 4321]\n",
      "2 so lon nhat la 4321 va 4321\n"
     ]
    }
   ],
   "source": [
    "k=int(input('nhap so phan tu'))\n",
    "print('danh sach co {} phan tu'.format(k))\n",
    "ds=[]\n",
    "for i in range(k):\n",
    "    x=int(input('nhap phan tu'))\n",
    "    print('phan tu thu {} la: {}'.format(i,x))\n",
    "    ds.append(x)\n",
    "print(ds)\n",
    "max1=ds[0]\n",
    "max2=ds[0]\n",
    "# cách 2\n",
    "ds.sort()\n",
    "print('2 so lon nhat la {} va {}'.format(ds[-1],ds[-2]))"
   ]
  },
  {
   "cell_type": "code",
   "execution_count": null,
   "metadata": {},
   "outputs": [
    {
     "name": "stdout",
     "output_type": "stream",
     "text": [
      "bài thực hành 14/3\n",
      "phan tu thu 1 la: 4\n",
      "phan tu thu 2 la: 5\n",
      "phan tu thu 3 la: 6\n",
      "[4, 5, 6]\n",
      "so phan tu lon hon 6 la:  0\n",
      "tong cac phan tu thoa man 3<ai<6 15\n",
      "[6, 5, 4]\n",
      "sap xep theo thu tu giam dan:  [6, 5, 4]\n"
     ]
    }
   ],
   "source": [
    "print('bài thực hành 14/3')\n",
    "#bài 1\n",
    "k= int(input('nhap so phan tu: '))\n",
    "l=[]\n",
    "for i in range(k):\n",
    "    x= int(input())\n",
    "    print('phan tu thu {} la: {}'.format(i+1,x))\n",
    "    l.append(x)\n",
    "print(l)\n",
    "def demso(k):\n",
    "    count=0\n",
    "    for i in range (k):\n",
    "        if l[i]>6:\n",
    "            count+=1\n",
    "    print('so phan tu lon hon 6 la: ',count)\n",
    "    return \n",
    "def tong(k):\n",
    "    tong=0\n",
    "    for i in range(len(l)):\n",
    "        if l[i]>3 and l[i] <=6:\n",
    "            tong+=l[i]\n",
    "    print('tong cac phan tu thoa man 3<ai<6',tong)\n",
    "    return \n",
    "def sx(l):\n",
    "#cách 1: dùng hàm có sẵn\n",
    "    a=sorted(l,reverse = True)\n",
    "    print(a)\n",
    "#cách 2: \n",
    "    for i in range(k-1):\n",
    "        for j in range(1, k):\n",
    "            if l[i]<l[j]:\n",
    "                d=l[i]\n",
    "                l[i]=l[j]\n",
    "                l[j]=d\n",
    "    print('sap xep theo thu tu giam dan: ',l)\n",
    "    return\n",
    "\n",
    "demso(k)\n",
    "tong(k)\n",
    "sx(l)\n"
   ]
  },
  {
   "cell_type": "code",
   "execution_count": null,
   "metadata": {},
   "outputs": [
    {
     "name": "stdout",
     "output_type": "stream",
     "text": [
      "[9, 8, 7, 2, -5]\n"
     ]
    }
   ],
   "source": [
    "\n",
    "p=[7,9,-5,8,2]\n",
    "for u in range(len(p)): #cho u chạy trong p\n",
    "    for v in range(len(p)-1): #cho v chạy trong p\n",
    "        if p[v]<p[u]:#hoán đổi vị trí\n",
    "            s=p[v]\n",
    "            p[v]=p[u]\n",
    "            p[u]=s\n",
    "print(p)\n"
   ]
  },
  {
   "cell_type": "code",
   "execution_count": null,
   "metadata": {},
   "outputs": [
    {
     "name": "stdout",
     "output_type": "stream",
     "text": [
      "day co 3 phan tu\n",
      "[435, 64, 63]\n",
      "h=  592.0833333333334\n"
     ]
    }
   ],
   "source": [
    "#bài 2\n",
    "def max(a):\n",
    "    max=a[0]\n",
    "    for i in range(len(a)):\n",
    "        if max< a[i]:\n",
    "            max = a[i]\n",
    "    return max\n",
    "m= int(input())\n",
    "print('day co {} phan tu'.format(m))\n",
    "l=[]\n",
    "h=0\n",
    "k=0\n",
    "for i in range (1,m+1):\n",
    "    b=int(input('nhap b'))\n",
    "    l.append(b)\n",
    "    k=max(l)\n",
    "    h+=k/(i*i)\n",
    "print(l)\n",
    "print('h= ',h)\n"
   ]
  },
  {
   "cell_type": "code",
   "execution_count": null,
   "metadata": {},
   "outputs": [
    {
     "name": "stdout",
     "output_type": "stream",
     "text": [
      "nhap phan tu thu a[ 1][ 1]:\n"
     ]
    },
    {
     "ename": "AttributeError",
     "evalue": "'int' object has no attribute 'append'",
     "output_type": "error",
     "traceback": [
      "\u001b[1;31m---------------------------------------------------------------------------\u001b[0m",
      "\u001b[1;31mAttributeError\u001b[0m                            Traceback (most recent call last)",
      "Cell \u001b[1;32mIn[4], line 10\u001b[0m\n\u001b[0;32m      8\u001b[0m         \u001b[39m# print('nhap phan tu thu a{}{}'.format(i+1,j+1))\u001b[39;00m\n\u001b[0;32m      9\u001b[0m         \u001b[39mprint\u001b[39m(\u001b[39m'\u001b[39m\u001b[39mnhap phan tu thu a[\u001b[39m\u001b[39m%2d\u001b[39;00m\u001b[39m][\u001b[39m\u001b[39m%2d\u001b[39;00m\u001b[39m]:\u001b[39m\u001b[39m'\u001b[39m\u001b[39m%\u001b[39m(i\u001b[39m+\u001b[39m\u001b[39m1\u001b[39m,j\u001b[39m+\u001b[39m\u001b[39m1\u001b[39m))\n\u001b[1;32m---> 10\u001b[0m         a[i]\u001b[39m.\u001b[39;49mappend(x)\n\u001b[0;32m     12\u001b[0m \u001b[39mprint\u001b[39m (a)\n",
      "\u001b[1;31mAttributeError\u001b[0m: 'int' object has no attribute 'append'"
     ]
    }
   ],
   "source": [
    "m = int(input(\"Nhap m = \"))\n",
    "n = int(input(\"Nhap n = \"))\n",
    "a = []\n",
    "for i in range(0, m):\n",
    "    a.append(i)\n",
    "    for j in range (0,n):\n",
    "        x=int(input())\n",
    "        # print('nhap phan tu thu a{}{}'.format(i+1,j+1))\n",
    "        print('nhap phan tu thu a[%2d][%2d]:'%(i+1,j+1))\n",
    "        a[i].append(x)\n",
    "\n",
    "print (a)"
   ]
  },
  {
   "cell_type": "code",
   "execution_count": null,
   "metadata": {},
   "outputs": [
    {
     "name": "stdout",
     "output_type": "stream",
     "text": [
      "  0    0\n",
      "0   0    0\n",
      " 0      0\n",
      "  0   0\n",
      "    0\n"
     ]
    }
   ],
   "source": [
    "a=0\n",
    "print(\"%3d  %3d\"%(a,a))\n",
    "print(a,' %2d'%a,'  %2d'%a)\n",
    "print('%2d'%(a),'    %2d'%(a))\n",
    "print('  {}'.format(  a),'  {}'.format(  a))\n",
    "print('%5d'%(a))"
   ]
  },
  {
   "cell_type": "code",
   "execution_count": null,
   "metadata": {},
   "outputs": [
    {
     "name": "stdout",
     "output_type": "stream",
     "text": [
      "Danh sách vừa nhập : \n",
      " 12  23 \n",
      " 43  23 \n",
      " 21  23 \n",
      "Giá trị max của list =  43.0\n",
      "Giá trị min của list =  12.0\n"
     ]
    }
   ],
   "source": [
    "m = int(input(\"Nhap m = \"))\n",
    "n = int(input(\"Nhap n = \"))\n",
    "a = []\n",
    "for i in range(0, m):\n",
    "    a.append([])\n",
    "    for j in range(0, n):\n",
    "        x = float(input(\"Nhap phan tu thu a[%2d][%2d]: \" % (i+1, j+1)))\n",
    "        a[i].append(x)\n",
    "maxlist=a[1][1]\n",
    "for i in range(0, m):\n",
    "    for j in range(0, n):\n",
    "        if a[i][j]>maxlist:\n",
    "            maxlist=a[i][j]\n",
    "minlist=a[1][1]\n",
    "for i in range(0, m):\n",
    "    for j in range(0, n):   \n",
    "        if a[i][j]<minlist: minlist=a[i][j]\n",
    "print(\"Danh sách vừa nhập : \")\n",
    "for i in range(0, m):\n",
    "    for j in range(0, n):\n",
    "        print(\"%3d \"%a[i][j], end='')\n",
    "    print()\n",
    "print(\"Giá trị max của list = \",maxlist)\n",
    "print(\"Giá trị min của list = \",minlist)"
   ]
  },
  {
   "cell_type": "code",
   "execution_count": null,
   "metadata": {},
   "outputs": [
    {
     "name": "stdout",
     "output_type": "stream",
     "text": [
      "Danh sách vừa nhập : \n",
      " 23 \n",
      " 23 \n",
      "max dòng 1 = 23.0\n",
      "max dòng 2 = 23.0\n"
     ]
    }
   ],
   "source": [
    "m = int(input(\"Nhap m = \"))\n",
    "n = int(input(\"Nhap n = \"))\n",
    "a = []\n",
    "for i in range(0, m):\n",
    "    a.append([])\n",
    "    for j in range(0, n):\n",
    "        x = float(input(\"Nhap phan tu thu a[%2d][%2d]: \" % (i+1, j+1)))\n",
    "        a[i].append(x)\n",
    "\n",
    "print(\"Danh sách vừa nhập : \")\n",
    "for i in range(0, m):\n",
    "    for j in range(0, n):\n",
    "        print(\"%3d \"%a[i-1][j-1], end='')\n",
    "    print() \n",
    "for i in range(0, m):\n",
    "    maxdong=a[i][0]\n",
    "    for j in range(0, n):\n",
    "        \n",
    "        if a[i][j]>maxdong: maxdong=a[i][j]\n",
    "    print(\"max dòng \"+str(i+1)+\" =\",maxdong)"
   ]
  },
  {
   "cell_type": "code",
   "execution_count": null,
   "metadata": {},
   "outputs": [
    {
     "name": "stdout",
     "output_type": "stream",
     "text": [
      "max dong 1 = 23.0\n",
      "max dong 2 = 32.0\n"
     ]
    }
   ],
   "source": [
    "m=int(input(\"Nhap m: \"))\n",
    "n=int(input(\"Nhap n: \"))\n",
    "a=[]\n",
    "for i in range(0,m):\n",
    "    a.append([])\n",
    "    for j in range (0,n):\n",
    "        x=float(input(\"Nhap phan tu thu a[%2d][%2d]: \"%(i+1,j+1)))\n",
    "        a[i].append(x)\n",
    "for i in range(0,m):\n",
    "    for j in range (0,n):\n",
    "        for k in range(j,n):\n",
    "            if(a[i][j]>a[i][k]):\n",
    "                x=a[i][j]\n",
    "                a[i][j]=a[i][k]\n",
    "                a[i][k]=x\n",
    "for i in range(0, m):\n",
    "    print(\"max dong \"+str(i+1)+\" =\",a[i][n-1])"
   ]
  },
  {
   "cell_type": "code",
   "execution_count": null,
   "metadata": {},
   "outputs": [
    {
     "name": "stdout",
     "output_type": "stream",
     "text": [
      "Danh sách vừa nhập : \n",
      "  2 \n",
      " 34 \n",
      " 23 \n",
      "min cột 1 =  2.0\n"
     ]
    }
   ],
   "source": [
    "m = int(input(\"Nhap m = \")) # m hàng\n",
    "n = int(input(\"Nhap n = \")) # n cột\n",
    "a = []\n",
    "for i in range(0, m):\n",
    "    a.append([])\n",
    "    for j in range(0, n):\n",
    "        x = float(input(\"Nhap phan tu thu a[%2d][%2d]: \" % (i+1, j+1)))\n",
    "    a[i].append(x)\n",
    "\n",
    "print(\"Danh sách vừa nhập : \")\n",
    "for i in range(0, m):\n",
    "    for j in range(0, n):\n",
    "        print(\"%3d \"%a[i][j], end='')\n",
    "    print() \n",
    "for j in range(0, n):\n",
    "    mincot=a[1][j]\n",
    "    for i in range(0, m):\n",
    "        if a[i][j]<mincot: mincot=a[i][j]\n",
    "print(\"min cột \"+str(j+1)+ \" = \", mincot)"
   ]
  },
  {
   "cell_type": "code",
   "execution_count": 39,
   "metadata": {},
   "outputs": [
    {
     "name": "stdout",
     "output_type": "stream",
     "text": [
      "Số dòng =  3\n",
      "Số cột =  4\n",
      "[3, 11, 69, 79]\n",
      "[18, 4, 88, 99]\n",
      "[22, 66, 5, 88]\n",
      "[]\n",
      "9\n",
      "25\n",
      "50\n",
      "Tổng các phần tử thỏa mãn trong khoảng [75,90] =  167\n",
      "Số các phần tử <75 là = 8\n"
     ]
    }
   ],
   "source": [
    "with open('c:/users//pc/Documents/mang2c.txt','r') as f:\n",
    "    m,n = list(map(int,f.readline().split()))\n",
    "    m2c = []\n",
    "    for i in range(n):\n",
    "        m2c.append(list(map(int,f.readline().split())))\n",
    "# Câu a\n",
    "print(\"Số dòng = \",m)\n",
    "print(\"Số cột = \",n)\n",
    "for a in m2c:\n",
    "    print(a)\n",
    "# Câu b\n",
    "tongcbp = 0 \n",
    "for i in range(m):\n",
    "    for j in range(n):\n",
    "        if i == j: tongcbp = tongcbp+m2c[i][j]*m2c[i][j]\n",
    "    print(tongcbp)\n",
    "# Câu c và câu d\n",
    "tongdk=0\n",
    "dem=0\n",
    "for i in range(m):\n",
    "    for j in range(n):\n",
    "        if m2c[i][j]<75: dem=dem+1\n",
    "    else:\n",
    "        if (m2c[i][j]<=90):\n",
    "                tongdk = tongdk+m2c[i][j]\n",
    "print(\"Tổng các phần tử thỏa mãn trong khoảng [75,90] = \",tongdk)\n",
    "print(\"Số các phần tử <75 là =\",dem)"
   ]
  },
  {
   "cell_type": "code",
   "execution_count": 6,
   "metadata": {},
   "outputs": [
    {
     "name": "stdout",
     "output_type": "stream",
     "text": [
      "bai 1\n",
      "gia tri phan tu a[1][1] 12\n",
      "gia tri phan tu a[1][2] 34\n",
      "gia tri phan tu a[1][3] 34\n",
      "gia tri phan tu a[2][1] 21\n",
      "gia tri phan tu a[2][2] 34\n",
      "gia tri phan tu a[2][3] 12\n",
      "mang hai chieu co kich co 3x2:\n",
      " 12 34 34\n",
      " 21 34 12\n",
      "gia tri lon nhat cua hang1=  34\n",
      "[34, 34, 12]\n",
      "gia tri lon nhat cua hang2=  34\n",
      "[34, 21, 12]\n"
     ]
    }
   ],
   "source": [
    "print('bai 1')\n",
    "m=int(input('nhap  so hang'))\n",
    "n=int(input('nhap so cot'))\n",
    "a=[]\n",
    "\n",
    "for i in range (m):\n",
    "    a.append([])\n",
    "    for j in range(n):\n",
    "        x=int(input('nhap gia tri cua phan tu'))\n",
    "       \n",
    "        print('gia tri phan tu a[%1d][%1d]'%(i+1,j+1),x)\n",
    "        a[i].append(x)\n",
    "print('mang hai chieu co kich co {}x{}:'.format(n,m))\n",
    "for i in range(m):\n",
    "    for j in range(n):\n",
    "        print('%3d'%a[i][j],end='')\n",
    "    print()\n",
    "\n",
    "for i in range(m):\n",
    "    for j in range(n):\n",
    "        for k in range(j,n):\n",
    "            if(a[i][j]>a[i][k]):\n",
    "                x=a[i][j]\n",
    "                a[i][j]=a[i][k]\n",
    "                a[i][k]=x\n",
    "    l=sorted(a[i],reverse=True)\n",
    "\n",
    "    print('gia tri lon nhat cua hang' + str(i+1)+'= ',a[i][j] )\n",
    "    print(l)\n"
   ]
  },
  {
   "cell_type": "code",
   "execution_count": 4,
   "metadata": {},
   "outputs": [
    {
     "name": "stdout",
     "output_type": "stream",
     "text": [
      "bai 2\n",
      "gia tri phan tu a[1][1] 132.0\n",
      "gia tri phan tu a[1][2] 45.0\n",
      "gia tri phan tu a[2][1] 34.0\n",
      "gia tri phan tu a[2][2] 23.0\n",
      "gia tri phan tu a[3][1] 54.0\n",
      "gia tri phan tu a[3][2] 23.0\n",
      "mang hai chieu co kich co 2x3:\n",
      "132 45\n",
      " 34 23\n",
      " 54 23\n",
      "can tinh tong cac phan tu lon hon  54\n",
      "tong cac phan tu lon hon  54 la:  132.0\n"
     ]
    }
   ],
   "source": [
    "print('bai 2')\n",
    "m=int(input('nhap  so hang'))\n",
    "n=int(input('nhap so cot'))\n",
    "a=[]\n",
    "\n",
    "for i in range (m):\n",
    "    a.append([])\n",
    "    for j in range(n):\n",
    "        x=float(input('nhap gia tri cua phan tu'))\n",
    "       \n",
    "        print('gia tri phan tu a[%1d][%1d]'%(i+1,j+1),x)\n",
    "        a[i].append(x)\n",
    "print('mang hai chieu co kich co {}x{}:'.format(n,m))\n",
    "for i in range(m):\n",
    "    for j in range(n):\n",
    "        print('%3d'%a[i][j],end='')\n",
    "    print()\n",
    "sum=0\n",
    "b=int(input('nhap x:'))\n",
    "print('can tinh tong cac phan tu lon hon ',b)\n",
    "for i in range(m):\n",
    "    for j in range(n):\n",
    "        if a[i][j]>b:\n",
    "            sum=sum+a[i][j]\n",
    "print('tong cac phan tu lon hon ',b,'la: ',sum)"
   ]
  },
  {
   "cell_type": "code",
   "execution_count": 87,
   "metadata": {},
   "outputs": [
    {
     "name": "stdout",
     "output_type": "stream",
     "text": [
      "13\n",
      "[1, 1, 2, 3, 5, 8, 13, 21, 34, 55, 89, 144, 233, 377, 610, 987, 1597, 2584, 4181, 6765]\n"
     ]
    }
   ],
   "source": [
    "a=[1,1]\n",
    "sum=0\n",
    "i= 2\n",
    "while i< 20:\n",
    "    sum = a[i-1] + a[i-2]\n",
    "    a.append(sum)\n",
    "    if sum >= 10 and sum <= 20:\n",
    "        print(sum)\n",
    "    i+=1\n",
    "print(a)\n"
   ]
  },
  {
   "cell_type": "code",
   "execution_count": null,
   "metadata": {},
   "outputs": [],
   "source": [
    "print('bài 2: 27/3')\n"
   ]
  },
  {
   "cell_type": "code",
   "execution_count": 47,
   "metadata": {},
   "outputs": [
    {
     "name": "stdout",
     "output_type": "stream",
     "text": [
      "gia tri phan tu a[1][1] 12\n",
      "gia tri phan tu a[1][2] 34\n",
      "gia tri phan tu a[1][3] 56\n",
      "gia tri phan tu a[2][1] 34\n",
      "gia tri phan tu a[2][2] 12\n",
      "gia tri phan tu a[2][3] 6\n",
      "mang hai chieu co kich co 2x3:\n",
      " 12  34  56 \n",
      " 34  12   6 \n",
      "min cột 1 =  12\n",
      "min cột 2 =  12\n",
      "min cột 3 =  6\n",
      "[6, 12, 12]\n"
     ]
    }
   ],
   "source": [
    "r=2 # so dong\n",
    "s=3 #so cot\n",
    "a=[]\n",
    "for i in range (r):\n",
    "    a.append([])\n",
    "    for j in range(s):\n",
    "        x=int(input('nhap gia tri cua phan tu'))\n",
    "        print('gia tri phan tu a[%1d][%1d]'%(i+1,j+1),x)\n",
    "        a[i].append(x)\n",
    "print('mang hai chieu co kich co {}x{}:'.format(r,s))\n",
    "for i in range(0,r):\n",
    "    for j in range(0,s):\n",
    "        print('%3d '%a[i][j],end='')\n",
    "    print()\n",
    "l=[]\n",
    "for j in range(0, s):\n",
    "    mincot=a[1][j]\n",
    "    for i in range(0, r):\n",
    "        if a[i][j]<mincot: \n",
    "             mincot=a[i][j]\n",
    "    l.append(mincot)\n",
    "    print(\"min cột \"+str(j+1)+ \" = \", mincot)\n",
    "kq=sorted(l,reverse=False)\n",
    "print(kq)\n",
    "    "
   ]
  },
  {
   "cell_type": "code",
   "execution_count": 33,
   "metadata": {},
   "outputs": [
    {
     "name": "stdout",
     "output_type": "stream",
     "text": [
      "BẢNG HỌC BỔNG\n",
      "HỌ VÀ TÊN MÃ SV  ĐTH1  ĐTH2  ĐTH3  ĐTH4  ĐTBC  HỌC BỔNG\n",
      " vy        3    9.00  8.00   9.00 9.00  8.67   1800000\n",
      " trang     4    9.00  7.00   8.00 6.00  7.44   1600000\n",
      " hảo       5    9.00  8.00   7.00 6.00  7.56   1600000\n",
      "Cộng   \t 3 \t \t \t \t \t 5000000\n"
     ]
    }
   ],
   "source": [
    "\n",
    "listsv=[]\n",
    "count=0\n",
    "sum=0\n",
    "while True: \n",
    "    masv= input('nhập mã sinh viên: ')\n",
    "    if masv == ' ':\n",
    "        break\n",
    "    count+=1\n",
    "    hoten= input('nhập họ tên sinh viên:')\n",
    "    dth1= float(input('nhập điểm thực hành 1:'))\n",
    "    dth2= float(input('nhập điểm thực hành 2:'))\n",
    "    dth3= float(input('nhập điểm thực hành 3:'))\n",
    "    dth4= float(input('nhập điểm thực hành 4:'))\n",
    "    dtb= (dth1*30 + dth2*45 + dth3*30 + dth4*30)/135\n",
    "    dtbc=round(dtb,2)\n",
    "    if dtbc >=9: \n",
    "        hb= 2000000\n",
    "    elif dtbc <9 and dtbc >=8:\n",
    "        hb=1800000\n",
    "    elif dtbc <8 and dtbc >=7:\n",
    "        hb= 1600000\n",
    "    else:\n",
    "        hb=0\n",
    "    sum+=hb\n",
    "    listsv.append([hoten,masv,dth1,dth2,dth3,dth4,dtbc,hb])\n",
    "    listsv.sort(reverse=True)\n",
    "print('BẢNG HỌC BỔNG')\n",
    "print('HỌ VÀ TÊN','MÃ SV',' ĐTH1',' ĐTH2',' ĐTH3',' ĐTH4',' ĐTBC',' HỌC BỔNG')\n",
    "for hoten,masv,dth1,dth2,dth3,dth4,dtbc,hb in listsv:\n",
    "    t=f' {hoten:<9} {masv:<4} {dth1:<5.2f} {dth2:<5.2f} {dth3:< 5.2f} {dth4:<5.2f} {dtbc:<5.2f} {hb:>8}'\n",
    "    print (t)\n",
    "print('Cộng  ','\\t',count,'\\t','\\t','\\t','\\t','\\t',sum)\n",
    "\n",
    "\n"
   ]
  },
  {
   "cell_type": "code",
   "execution_count": 47,
   "metadata": {},
   "outputs": [
    {
     "name": "stdout",
     "output_type": "stream",
     "text": [
      "BẢNG LƯƠNG CÔNG TY ABC\n",
      "HỌ VÀ TÊN MÃ CV  HSL  PHUCAPCV    THUCLINH \t  KI1 \t  KI2\n",
      " tùng      2.0  5.00  1800000.00  10800000.00 7200000.00 3600000.00\n",
      " trúc      3.0  4.00  1600000.00  8800000.00 5866666.67 2933333.33\n",
      " cúc       4.0  6.00  1400000.00  12200000.00 8133333.33 4066666.67\n"
     ]
    }
   ],
   "source": [
    "\n",
    "listcb=[]\n",
    "while True: \n",
    "    macb= input('nhập mã cán bộ: ')\n",
    "    if macb == ' ':\n",
    "        break\n",
    "    hovaten= input('nhập họ tên cán bộ:')\n",
    "    macv= float(input('nhập mã chức vụ:(1,2,3,4)'))\n",
    "    hsl= float(input('nhập hệ số lương:'))\n",
    "   \n",
    "    if macv ==1: \n",
    "        phucapcv= 2000000\n",
    "    elif macv ==2:\n",
    "        phucapcv=1800000\n",
    "    elif macv ==3:\n",
    "        phucapcv= 1600000\n",
    "    elif macv ==4:\n",
    "        phucapcv=1400000\n",
    "    thuclinh= 1800000*hsl+phucapcv\n",
    "    ki1=thuclinh*2/3\n",
    "    ki2=thuclinh/3\n",
    "    listcb.append([hovaten,macv,hsl,phucapcv,thuclinh,ki1,ki2])\n",
    "    listcb.sort(reverse=True)\n",
    "print('BẢNG LƯƠNG CÔNG TY ABC')\n",
    "print('HỌ VÀ TÊN','MÃ CV',' HSL',' PHUCAPCV','   THUCLINH','\\t',' KI1','\\t',' KI2')\n",
    "for hovaten,macv,hsl,phucapcv,thuclinh,ki1,ki2 in listcb:\n",
    "    t=f' {hovaten:<9} {macv:<4} {hsl:<5.2f} {phucapcv:<5.2f} {thuclinh:< 5.2f} {ki1:<5.2f} {ki2:<5.2f}'\n",
    "    print (t)\n",
    "\n",
    "\n",
    "\n"
   ]
  },
  {
   "cell_type": "code",
   "execution_count": null,
   "metadata": {},
   "outputs": [],
   "source": [
    "import math\n",
    "print('bai 1')\n",
    "a= int(input(\"nhap a = \"))\n",
    "b= int(input('nhap b = '))\n",
    "if a==0:\n",
    "    if b==0:\n",
    "        print('phuong trinh co vo so nghiem')\n",
    "    else:\n",
    "        print('phuong trinh vo nghiem')\n",
    "else:\n",
    "    print('phuong trinh co nghiem la x =', -b/a)\n"
   ]
  },
  {
   "cell_type": "code",
   "execution_count": null,
   "metadata": {},
   "outputs": [],
   "source": [
    "print('bai 2')\n",
    "a2=int(input('nhap a2 = '))\n",
    "if a2==0:\n",
    "    print('phương trình không phải phương trình bậc 2')\n",
    "a2=int(input('nhap lai a2= '))\n",
    "b2=int(input('nhap b2 = '))\n",
    "c2=int(input('nhap c2 = '))\n",
    "delta= b2*b2 - 4*a2*c2\n",
    "if delta == 0:\n",
    "    print('phuong trinh co nghiem kep x1 = x2 =', -b/(2*a))\n",
    "elif delta >0:\n",
    "        print('phuong trinh co 2 nghiem lan luot la x1 = ', (-b+sqrt(delta)/(2*a)), 'x2 = ', (-b-sqrt(delta)/(2*a)))\n",
    "else:\n",
    "        print('phuong trinh vo nghiem')"
   ]
  },
  {
   "cell_type": "code",
   "execution_count": null,
   "metadata": {},
   "outputs": [],
   "source": [
    "print('bai 3')\n",
    "a3= int(input('nhap a3 = '))\n",
    "b3= int(input('nhap b3 = '))\n",
    "c3= int(input('nhap c3 = '))\n",
    "a4= int(input('nhap a4 = '))\n",
    "b4= int(input('nhap b4 ='))\n",
    "c4= int(input('nhap c4 = '))\n",
    "hpt_x= (c3*b4-c4*b3)/(a3*b4- a4*b3)\n",
    "hpt_y= (c3-a3*hpt_x)/b3\n",
    "print('he phuong trinh co nghiem x = ', hpt_x, 'va y = ', hpt_y) "
   ]
  },
  {
   "cell_type": "code",
   "execution_count": null,
   "metadata": {},
   "outputs": [],
   "source": [
    "print('bai 4 ')\n",
    "giai_thua=1\n",
    "tong=1\n",
    "x= int(input('nhap x = '))\n",
    "for i in range (1, 4):\n",
    "    giai_thua*=i\n",
    "    tong+= (x**i)/giai_thua\n",
    "print('y = ', tong)\n"
   ]
  },
  {
   "cell_type": "code",
   "execution_count": null,
   "metadata": {},
   "outputs": [],
   "source": [
    "print('bai 5')\n",
    "giai_thua=1\n",
    "tong=1\n",
    "x= int(input('nhap x:'))\n",
    "print(x)\n",
    "i=1\n",
    "while abs((x**i)/giai_thua) > 10**(-8):\n",
    "    giai_thua*=i #so lon (=20) bao loi\n",
    "    tong+=(x**i)/giai_thua\n",
    "    i+=1\n",
    "print('y = ', tong)\n",
    "print(i)\n",
    "# u=u*x/i "
   ]
  },
  {
   "cell_type": "code",
   "execution_count": null,
   "metadata": {},
   "outputs": [],
   "source": [
    "print('bai 6')\n",
    "giai_thua = 1\n",
    "tong = 1\n",
    "x= int(input('nhap x:'))\n",
    "i= 1\n",
    "c= float(input('nhap so duong nho: '))\n",
    "k= float(input('nhap k:'))\n",
    "while c<=0:\n",
    "    c= float(input('nhap lai c:'))\n",
    "while k<0:\n",
    "    k= int(input('nhap lai k:'))\n",
    "while abs((x**i)/giai_thua) >c or i<k:\n",
    "    giai_thua*=i\n",
    "    tong+= (x**i)/giai_thua\n",
    "    i+=1\n",
    "print('y = ', tong)"
   ]
  },
  {
   "cell_type": "code",
   "execution_count": null,
   "metadata": {},
   "outputs": [],
   "source": [
    "print('bai 8')\n",
    "a=[]\n",
    "S1=0\n",
    "S2=0\n",
    "S3=0\n",
    "for i in range (1,101):\n",
    "    n= int(input())\n",
    "    print('nhap so thu ',i,': ', n)\n",
    "    a.append(n)\n",
    "    if n>0:\n",
    "        S1+=n\n",
    "    elif n<0:\n",
    "        S2+=n\n",
    "    else:\n",
    "        S3+=1\n",
    "print(a)\n",
    "print('tong cac phan tu duong la: ',S1)\n",
    "print('tong cac phan tu am: ',S2)\n",
    "print('so phan tu =0 la: ',S3)"
   ]
  },
  {
   "cell_type": "code",
   "execution_count": null,
   "metadata": {},
   "outputs": [],
   "source": [
    "print('bai 9')\n",
    "a=[]\n",
    "s4=1\n",
    "s5=0\n",
    "check1= 0\n",
    "check2=0\n",
    "for i in range (1,4):\n",
    "    n= int(input())\n",
    "    a.append(n)\n",
    "    print('nhap so thu ',i,':',n)\n",
    "    if n>3 and n<16:\n",
    "        s4*=n\n",
    "        check1=1\n",
    "    if n<5 or n>=8:\n",
    "        s5+=n\n",
    "        check2=1    \n",
    "print(a)\n",
    "if check1==1:\n",
    "    print('tich cac phan tu nam trong khoang (3;15] la: ',s4)\n",
    "else: \n",
    "    print('tich cac phan tu nam trong khoan (3;15] la: 0')\n",
    "if check2==1:\n",
    "    print('tong cac phan tu nam trong khoan <5 hoac >=8 la: ',s5)\n",
    "else:\n",
    "    print('tong ca phan tu nam trong khoang <5 hoac >=8 la: 0')\n",
    "\n"
   ]
  },
  {
   "cell_type": "code",
   "execution_count": null,
   "metadata": {},
   "outputs": [],
   "source": [
    "print('bai 10')\n",
    "a=[]\n",
    "m1=-10**10\n",
    "m2=10**10\n",
    "for i in range (1,5):\n",
    "    n= int(input())\n",
    "    a.append(n)\n",
    "    print('nhap so thu ',i,': ',n)\n",
    "    if m1 <n:\n",
    "        m1=n \n",
    "    if m2>n:\n",
    "        m2=n\n",
    "print(a)\n",
    "print('so lon nhat la: ',m1)   \n",
    "print('so nho nhat la: ',m2)\n"
   ]
  },
  {
   "cell_type": "code",
   "execution_count": null,
   "metadata": {},
   "outputs": [],
   "source": [
    "def tinhmax(*args):\n",
    "    if len(args)==0:\n",
    "        return\n",
    "    else:\n",
    "        max=args[0]\n",
    "        for arg in args:\n",
    "            if (arg>max):\n",
    "                max= arg\n",
    "    return max"
   ]
  },
  {
   "cell_type": "code",
   "execution_count": null,
   "metadata": {},
   "outputs": [],
   "source": [
    "print('bai 10')\n",
    "a=[]\n",
    "for i in range (1,10):\n",
    "    n= int(input())\n",
    "    print('nhap so thu ',i,':',n)\n",
    "    a.append(n)\n",
    "    \n",
    "max=a[0]\n",
    "min= a[0]\n",
    "for x in a:\n",
    "        if x>max:\n",
    "            max=x\n",
    "        if x <min:\n",
    "             min =x\n",
    "print(a)\n",
    "print('so lon nhat la: ',max)\n",
    "print('so nho nhat la: ',min)"
   ]
  },
  {
   "cell_type": "code",
   "execution_count": null,
   "metadata": {},
   "outputs": [],
   "source": [
    "print('bai 11')\n",
    "a=[]\n",
    "s2=0\n",
    "s4=1\n",
    "check=1\n",
    "for i in range(1,4):\n",
    "    n= int(input())\n",
    "    a.append(n)\n",
    "    x=a[0]\n",
    "    print('nhap so thu ',i,':',n)\n",
    "    if n <0:\n",
    "        s2+=n\n",
    "    if n>3 and n<16:\n",
    "        s4*=n\n",
    "        check=0\n",
    "    if n>x:\n",
    "        x=n\n",
    "print(a)\n",
    "print('gia tri lon nhat cua day so la: ', x)\n",
    "print('tong cac phan tu am la: ',s2)\n",
    "if check==1:\n",
    "    print('tich cac phan tu nam trong (3,15] la 0')\n",
    "else:\n",
    "    print('tich cac phan tu nam trong (3,15] la: ',s4)\n"
   ]
  },
  {
   "cell_type": "code",
   "execution_count": null,
   "metadata": {},
   "outputs": [],
   "source": [
    "print('bai 12')\n",
    "a=[]\n",
    "tich=1\n",
    "check=1\n",
    "tong=0\n",
    "m= int(input('nhap n: '))\n",
    "for i in range (1,m+1):\n",
    "    n=int(input())\n",
    "    print('nhap so thu ',i,':',n)\n",
    "    a.append(n)\n",
    "print(a)\n",
    "max=a[0]\n",
    "x= int(input('nhap x: '))\n",
    "for i in a:\n",
    "    if n>6.5:\n",
    "        tich*=n\n",
    "    else:\n",
    "        check=0\n",
    "    if n>max:\n",
    "        max=n\n",
    "    if n>x:\n",
    "        tong+=x\n",
    "if check==0:\n",
    "    print('khong co phan tu >6.5')\n",
    "else:\n",
    "    print('tich phan tu >6.5 la: ',tich)\n",
    "print('gia tri lon nhat la: ',max)\n",
    "print('tong cac phan tu lon hon ',x,'la:',tong)\n",
    "    \n"
   ]
  },
  {
   "cell_type": "code",
   "execution_count": null,
   "metadata": {},
   "outputs": [],
   "source": [
    "print('bai 13')\n",
    "tong=0\n",
    "tich=1\n",
    "check=1\n",
    "x=int(input('nhap x:'))\n",
    "y=int(input('nhap y:'))\n",
    "m=int(input('nhap so phan tu mang:'))\n",
    "for i in range(1,m+1):\n",
    "    n= int(input())\n",
    "    print('nhap so thu ',i,':',n)\n",
    "    if n>x:\n",
    "        tong+=n\n",
    "    if n<y:\n",
    "        tich*=n\n",
    "        check=0\n",
    "if check==1:\n",
    "    print('khong co phan tu nho hon ',y)\n",
    "else:\n",
    "    print('tich cac phan tu nho hon ',y,'la: ',tich)\n",
    "print('tong cac phan tu duong lon hon ',x, 'la: ',tong)\n"
   ]
  },
  {
   "cell_type": "code",
   "execution_count": null,
   "metadata": {},
   "outputs": [],
   "source": [
    "print('bai 14')\n",
    "dem=0\n",
    "tbc=0\n",
    "tong=0\n",
    "check=0\n",
    "for i in range(1,5):\n",
    "    n=int(input())\n",
    "    print('nhap so thu {} la: {}'.format(i,n))\n",
    "    if n%2==1:\n",
    "        dem+=1\n",
    "        tong+=n\n",
    "        \n",
    "        check=1\n",
    "tbc=tong/dem\n",
    "if check==0:\n",
    "    print('khong co phan tu le')\n",
    "else:\n",
    "    print('trung binh cong cua cac phan tu le la: ',tbc)\n",
    "print('so phan tu le la: ',dem)"
   ]
  },
  {
   "cell_type": "code",
   "execution_count": null,
   "metadata": {},
   "outputs": [],
   "source": [
    "print('bai 3')\n",
    "x=int(input('nhap x: '))\n",
    "y=0\n",
    "u=x\n",
    "while i<201:\n",
    "    u*=(-x*x/(2*i*(2*i+1)))\n",
    "    y+=u\n",
    "    i+=1\n",
    "print('sin({})= {}'.format(x,y) )"
   ]
  }
 ],
 "metadata": {
  "kernelspec": {
   "display_name": "Python 3",
   "language": "python",
   "name": "python3"
  },
  "language_info": {
   "codemirror_mode": {
    "name": "ipython",
    "version": 3
   },
   "file_extension": ".py",
   "mimetype": "text/x-python",
   "name": "python",
   "nbconvert_exporter": "python",
   "pygments_lexer": "ipython3",
   "version": "3.11.1"
  },
  "orig_nbformat": 4,
  "vscode": {
   "interpreter": {
    "hash": "5ffd7eb2cebf9ac436b5021ba01877e9cee6b03524e01bf8c8637d3e64111215"
   }
  }
 },
 "nbformat": 4,
 "nbformat_minor": 2
}
