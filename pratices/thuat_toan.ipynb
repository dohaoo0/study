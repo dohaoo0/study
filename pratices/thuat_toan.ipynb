{
 "cells": [
  {
   "cell_type": "code",
   "execution_count": 30,
   "metadata": {},
   "outputs": [
    {
     "name": "stdout",
     "output_type": "stream",
     "text": [
      "5 la so nguyen to\n"
     ]
    }
   ],
   "source": [
    "n=int(input())\n",
    "dem=0\n",
    "for i in range (2,n-1):\n",
    "    if n%i ==0:\n",
    "        dem+=1\n",
    "if dem>=1:\n",
    "    print(n, 'khong phai so nguyen to')\n",
    "else:\n",
    "    print(n,'la so nguyen to')    "
   ]
  },
  {
   "cell_type": "code",
   "execution_count": 34,
   "metadata": {},
   "outputs": [
    {
     "name": "stdout",
     "output_type": "stream",
     "text": [
      "6 khong phai so nguyen to\n"
     ]
    }
   ],
   "source": [
    "n= int(input())\n",
    "dem= 0\n",
    "for i in range(2,round(n/2+1)):\n",
    "    if n%i==0:\n",
    "        dem +=1\n",
    "if dem >=1:\n",
    "    print(n,'khong phai so nguyen to')\n",
    "else:\n",
    "    print(n,'la so nguyen to')"
   ]
  },
  {
   "cell_type": "code",
   "execution_count": 36,
   "metadata": {},
   "outputs": [
    {
     "name": "stdout",
     "output_type": "stream",
     "text": [
      "100 khong phai so nguyen to\n"
     ]
    }
   ],
   "source": [
    "n= int(input())\n",
    "m= n**0.5\n",
    "dem=0\n",
    "for i in range(2,int(m)+1):\n",
    "    if n%i==0:\n",
    "        dem+=1\n",
    "        \n",
    "if dem >=1:\n",
    "    print(n,'khong phai so nguyen to')\n",
    "else:\n",
    "    print(n,'la so nguyen to')\n"
   ]
  },
  {
   "cell_type": "code",
   "execution_count": 8,
   "metadata": {},
   "outputs": [
    {
     "name": "stdout",
     "output_type": "stream",
     "text": [
      "6 khong phai so nguyen to\n",
      "0 la so nguyen to\n",
      "5 la so nguyen to\n",
      "7 la so nguyen to\n",
      "9 khong phai so nguyen to\n",
      "4 khong phai so nguyen to\n",
      "5 la so nguyen to\n"
     ]
    }
   ],
   "source": [
    "a=[6,0,5,7,9,4,5]\n",
    "for i in a:\n",
    "    m= i**0.5\n",
    "    dem=0\n",
    "    for j in range(2,round(m+1)):\n",
    "        if i%j==0:\n",
    "            dem+=1\n",
    "            break\n",
    "    if dem >=1:\n",
    "        print(i,'khong phai so nguyen to')\n",
    "    else:\n",
    "        print(i,'la so nguyen to')\n",
    "    "
   ]
  },
  {
   "cell_type": "code",
   "execution_count": 23,
   "metadata": {},
   "outputs": [
    {
     "name": "stdout",
     "output_type": "stream",
     "text": [
      "(1, 2)\n",
      "5\n",
      "1 2\n"
     ]
    }
   ],
   "source": [
    "x=5\n",
    "def GT(n):\n",
    "    # if n>=1:\n",
    "        x=2\n",
    "        # return n*GT(n-1)\n",
    "    # else:\n",
    "        return 1,x\n",
    "\n",
    "a,b=GT(x)\n",
    "print(GT(x))\n",
    "print(x)\n",
    "print(a,b)"
   ]
  },
  {
   "cell_type": "code",
   "execution_count": 35,
   "metadata": {},
   "outputs": [
    {
     "name": "stdout",
     "output_type": "stream",
     "text": [
      "[2, 4, 5, 5, 6, 7, 9, 23]\n"
     ]
    }
   ],
   "source": [
    "a=[2,5,7,6,9,23,4,5]\n",
    "v=0\n",
    "for i in range(len(a)):\n",
    "    for j in range(len(a)):\n",
    "        if a[i] < a[j]:\n",
    "            v= a[i]\n",
    "            a[i] = a[j]\n",
    "            a[j]= v\n",
    "print(a)"
   ]
  },
  {
   "cell_type": "code",
   "execution_count": 1,
   "metadata": {},
   "outputs": [
    {
     "name": "stdout",
     "output_type": "stream",
     "text": [
      "7\n"
     ]
    }
   ],
   "source": [
    "def sum(a,b):\n",
    "    s=a+b\n",
    "    return s\n",
    "\n",
    "print(sum(3,4))"
   ]
  },
  {
   "cell_type": "code",
   "execution_count": 5,
   "metadata": {},
   "outputs": [
    {
     "name": "stdout",
     "output_type": "stream",
     "text": [
      "Not Weird\n"
     ]
    }
   ],
   "source": [
    "if __name__ == '__main__':\n",
    "    n = int(input().strip())\n",
    "    if n%2==0:\n",
    "        if n>=2 and n <= 5:\n",
    "            print('Not Weird')\n",
    "        elif n <=20:\n",
    "            print('Weird')\n",
    "        elif n<101:\n",
    "            print('Not Weird')\n",
    "    else:\n",
    "        print('Weird')\n"
   ]
  },
  {
   "cell_type": "code",
   "execution_count": 12,
   "metadata": {},
   "outputs": [
    {
     "name": "stdout",
     "output_type": "stream",
     "text": [
      "[2, 2, 5]\n",
      "[2, 3]\n",
      "[2, 5]\n",
      "[2]\n"
     ]
    }
   ],
   "source": [
    "def primeFactors(a):\n",
    "    if a!= 2:\n",
    "        list=[]\n",
    "        for i in range (2,int(a/2+1)):\n",
    "            dem=0\n",
    "            for j in range (2, round(i/2 +1)):\n",
    "                if i%j==0:\n",
    "                    dem +=1\n",
    "            if dem <1:\n",
    "                while a%i==0:\n",
    "                    a//=i\n",
    "                    list.append(i)\n",
    "    else:\n",
    "        list=[2]\n",
    "    return list\n",
    "print(primeFactors(20))\n",
    "print(primeFactors(6))\n",
    "print(primeFactors(10))\n",
    "print(primeFactors(2))"
   ]
  },
  {
   "cell_type": "code",
   "execution_count": 4,
   "metadata": {},
   "outputs": [
    {
     "data": {
      "text/plain": [
       "450.0"
      ]
     },
     "execution_count": 4,
     "metadata": {},
     "output_type": "execute_result"
    }
   ],
   "source": [
    "3\n",
    "1 3 5\n",
    "3 6 0\n",
    "4 5 9"
   ]
  }
 ],
 "metadata": {
  "kernelspec": {
   "display_name": "Python 3",
   "language": "python",
   "name": "python3"
  },
  "language_info": {
   "codemirror_mode": {
    "name": "ipython",
    "version": 3
   },
   "file_extension": ".py",
   "mimetype": "text/x-python",
   "name": "python",
   "nbconvert_exporter": "python",
   "pygments_lexer": "ipython3",
   "version": "3.11.1"
  },
  "orig_nbformat": 4
 },
 "nbformat": 4,
 "nbformat_minor": 2
}
