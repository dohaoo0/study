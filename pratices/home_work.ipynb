{
 "cells": [
  {
   "cell_type": "code",
   "execution_count": null,
   "metadata": {},
   "outputs": [],
   "source": [
    "for i in range (0,100):\n",
    "    if i %15 "
   ]
  },
  {
   "cell_type": "code",
   "execution_count": 4,
   "metadata": {},
   "outputs": [
    {
     "name": "stdout",
     "output_type": "stream",
     "text": [
      "3\n",
      "19.0\n"
     ]
    }
   ],
   "source": [
    "# 1. Nhập a là số nguyên. Nếu a>10 tính F= a^4\n",
    "# Nếu a<10 và a>0 thì tính K= a+12*4/a\n",
    "# còn lại thì Tính G=-a/2\n",
    "a= int(input('nhập số nguyên: '))\n",
    "f=0; k=0; g=0\n",
    "if a>10:\n",
    "    f+= a**4\n",
    "    print (f)\n",
    "elif a<10 and a>0:\n",
    "    k+=a+12*4/a\n",
    "    print (k)\n",
    "else:\n",
    "    G+=-a/2\n",
    "    print(G)"
   ]
  },
  {
   "cell_type": "code",
   "execution_count": 2,
   "metadata": {},
   "outputs": [
    {
     "name": "stdout",
     "output_type": "stream",
     "text": [
      "-1.3333333333333333\n"
     ]
    }
   ],
   "source": [
    "# 2. Nhập a,b kiểm tra a nếu a khác 0 thì\n",
    "# Tìm x của ax+b=0\n",
    "a= int(input('nhập số nguyên: '))\n",
    "b= int(input('nhập số nguyên: '))\n",
    "if a != 0:\n",
    "    x=-b/a\n",
    "    print (x)"
   ]
  },
  {
   "cell_type": "code",
   "execution_count": 8,
   "metadata": {},
   "outputs": [
    {
     "name": "stdout",
     "output_type": "stream",
     "text": [
      "nhập lại số từ 2 đến 8\n",
      "nhập lại số từ 2 đến 8\n",
      "thứ  2\n"
     ]
    }
   ],
   "source": [
    "# 3. Nhập a là số nguyên. từ 2 đến 8\n",
    "# in ra các thứ trong tuần\n",
    "a= int(input('nhập số từ 2 đến 8: '))\n",
    "while a<2 or a>9:\n",
    "    a= int(input('nhập lại số từ 2 đến 8: '))\n",
    "if a>1 and a<8:\n",
    "    print ('thứ ',a)\n",
    "if a==8:\n",
    "    print('chủ nhật')"
   ]
  },
  {
   "cell_type": "code",
   "execution_count": null,
   "metadata": {},
   "outputs": [],
   "source": [
    "# 2. Nhập tuổi (là số nguyên). 0 <tuổi <=12 là thiếu nhi\n",
    "# 12 < tuoi <= 18 là thiếu niên\n",
    "# 18< tuoi <=40 là trưởng thành\n",
    "# 40 <tuổi <=60 là trung niên\n",
    "# còn lại là người già\n",
    "a= int(input('nhập số tuổi: '))\n",
    "while a <0:\n",
    "    a= int(input('nhập lại số tuổi: '))\n",
    "if a>0 and a<=12:\n",
    "    print('thiếu nhi')\n",
    "elif a >12 and a<=18:\n",
    "    print('thiếu niên')\n",
    "elif a>18 and a<=40:\n",
    "    print('trưởng thành')\n",
    "elif a>40 and a<=60:\n",
    "    print('trung niên')\n",
    "else: \n",
    "    print('người già')"
   ]
  },
  {
   "cell_type": "code",
   "execution_count": 3,
   "metadata": {},
   "outputs": [
    {
     "name": "stdout",
     "output_type": "stream",
     "text": [
      "số tiền phải trả là:  229090.34999999966\n"
     ]
    }
   ],
   "source": [
    "# 1.Viết chương trình nhập số KW điện tiêu thụ của một hộ gia đình\n",
    "# viết chương trình nhập số KW điện tiêu thụ của một hộ gia đình . tính số tiền phải trả biết giá điện như sau :\n",
    "# + từ KW thứ1 đến 50 :          1.678đ/KW\n",
    "# + từ KW thứ51 đến 100 :       1.734đ/KW\n",
    "# + từ KW thứ101 đến 200 :      2.014đ/KW\n",
    "# + từ KW thứ201 đến 300:       2.536đ/KW\n",
    "# + từ KW thứ 301 đến 400 :     2.834đ/KW\n",
    "# + từ KW thứ401 trở đi      :      2.927đ/KW\n",
    "x= int(input('nhập số điện:'))\n",
    "a=0\n",
    "for i in range(x):\n",
    "    if x<=50:\n",
    "        a+=x*1.678\n",
    "    elif x>50 and x<=100:\n",
    "        a+=(x-50)*1.734 +50*1.678\n",
    "    elif x>100 and x>=200:\n",
    "        a+=50*(1.678 + 1.734) +(x-100)*2.014\n",
    "    elif x>200 and x<=300:\n",
    "        a+=50*(1.678+1.734) + 100*2.014 + (x-200)*2.536\n",
    "    elif x>300 and x<=400:\n",
    "        a+=50*(1.678+1.734) + 100*2.014 + 200*2.536 +(x-300)*2.834\n",
    "    else:\n",
    "        a+=50*(1.678+1.734) + 100*2.014 + 200*2.536 +(300)*2.834 + (x-400)*2.927\n",
    "print('số tiền phải trả là: ',a)"
   ]
  },
  {
   "cell_type": "code",
   "execution_count": null,
   "metadata": {},
   "outputs": [],
   "source": [
    "# 2.Số đã cho có một hoặc hai chữ số hoặc ba chữ số hoặc nhiều hơn ba chữ số\n",
    "a=int(input('nhập số:'))\n",
    "if a <10:\n",
    "    print('số vừa nhập là số có một chữ số')\n",
    "elif a<100:\n",
    "    print('số vừa nhập là số có hai chữ số')\n",
    "elif a<1000:\n",
    "    print('số vừa nhập là số có ba chữ số')\n",
    "else:\n",
    "    print('số vừa nhập là số có nhiều hơn ba chữ số')"
   ]
  },
  {
   "cell_type": "code",
   "execution_count": null,
   "metadata": {},
   "outputs": [],
   "source": [
    "# 3.Số đã nhập có phải là số nhỏ nhất có 4 chữ số hay không\n",
    "a=int(input('nhập số:'))\n",
    "if a==1000:\n",
    "    print('số vừa nhập là số nhỏ nhất có 4 chữ số')\n",
    "else:\n",
    "    print('số vừa nhập không phải số nhỏ nhất có 4 chữ số')"
   ]
  },
  {
   "cell_type": "code",
   "execution_count": null,
   "metadata": {},
   "outputs": [],
   "source": [
    "# 4. Số đã cho có chia hết cho 5 hay không\n",
    "a=int(input('nhập số:'))\n",
    "if a%5==0:\n",
    "    print('số vừa nhập chia hết cho 5')\n",
    "else:\n",
    "    print('số vừa nhập không chia hết cho 5')"
   ]
  },
  {
   "cell_type": "code",
   "execution_count": null,
   "metadata": {},
   "outputs": [],
   "source": [
    "# 5.Hàm f được định nghĩa như sau\n",
    "# Nhập X\n",
    "# f(x)   =    ax^3 – bx^2 + cx –d,                  nếu x > k\n",
    "\n",
    "# =    0,                                              nếu x = k\n",
    "\n",
    "# =    -ax^3 + bx^2 – cx +d,                 nếu x < k\n",
    "\n",
    "# Viết chương trình nhập a, b, c, d, k và x và in ra giá trị của f(x)\n",
    "a=int(input('nhập hệ số a: '))\n",
    "b=int(input('nhập hệ số b: '))\n",
    "c=int(input('nhập hệ số c: '))\n",
    "d=int(input('nhập hệ số d: '))\n",
    "k=5\n",
    "x=int(input('nhập x:'))\n",
    "if x>k:\n",
    "    f=a*x**3 - b*x**2 + c*x - d\n",
    "elif x>k:\n",
    "    f= -a*x**3 + b*x**2 - c*x +d\n",
    "else:\n",
    "    f=0\n",
    "print(f)"
   ]
  },
  {
   "cell_type": "code",
   "execution_count": null,
   "metadata": {},
   "outputs": [],
   "source": [
    "# 6. Chương trình này sẽ đọc vào các loại điểm của sinh viên (điểm chuyên cần, điểm giữa kỳ, và điểm cuối kỳ) và xếp loại điểm theo quy luật sau:\n",
    "# – nế điểm trung bình >=9 =>loại=A\n",
    "# – nếu điểm trung bình >= 7 và <9 => loại=B\n",
    "# – nếu điểm trung bình>=5 and <7 =>loại=C\n",
    "# – nếu điểm trung bình<5 =>loại=D\n",
    "a=float(input('nhập vào điểm chuyên cần:'))\n",
    "b=float(input('nhập vào điểm giữa kì: '))\n",
    "c=float(input('nhập vào điểm cuối kỳ: '))\n",
    "DTB=a*0.1 +b*0,3 + c*0,6\n",
    "if DTB >=9:\n",
    "    print('loại A')\n",
    "elif DTB >=7 and DTB <9:\n",
    "    print('loại B')\n",
    "elif DTB >=5 and DTB <7:\n",
    "    print('loại C')\n",
    "else:\n",
    "    print('loại D')"
   ]
  },
  {
   "cell_type": "code",
   "execution_count": 11,
   "metadata": {},
   "outputs": [
    {
     "name": "stdout",
     "output_type": "stream",
     "text": [
      "bao tri\n"
     ]
    }
   ],
   "source": [
    "# 7.Hãy nhập vào năm sản xuất của một chiếc máy tính,\n",
    "# sau đó đưa ra đề xuất đối với máy tính đó theo quy tắc sau:\n",
    "# Nếu năm sản xuất >=15 thì đưa ra đề xuất \"Thay the\"\n",
    "# Nếu năm sản xuất >=10 và <15 thì đưa ra đề xuất \"Bao tri\"\n",
    "# Những trường hợp khác đưa ra đề xuất \"Khong co de xuat\".\n",
    "y= int(input('nhập vào năm sản xuất'))\n",
    "a= 2023- y\n",
    "if a>=15:\n",
    "    print('thay the')\n",
    "elif a<15 and a<=10:\n",
    "    print('bao tri')\n",
    "else:\n",
    "    print('không có đề xuất')"
   ]
  },
  {
   "cell_type": "code",
   "execution_count": null,
   "metadata": {},
   "outputs": [],
   "source": [
    "# 1.Viết chương trình kiểm tra xem điểm M(x,y) nằm trong,\n",
    "# trên hay ngoài đường tròn tâm I(a,b) và bán kính R nhập vào từ bàn phím?\n",
    "# Nhập x,y là tọa độ của M. a,b là tọa độ của I. R là bán kính của đường tròn tâm I\n",
    "# Hướng đãn:\n",
    "# Tính khoản cách giữa 2 điểm căn bậc 2 của ((a-x)^2+(b-y)^2) viết trong python ((a-x)^2+(b-y)^2)**0.5\n",
    "# Nhập R\n",
    "# Tính khoảng cách theo công thức trên rồi so sánh với R.\n",
    "#  Nếu MI < R thì in ra \"M nằm trong đường tròn tâm I bán kính R\" còn ngược lại\n",
    "# \"M không nằm trong đường tròn tâm I bán kính R\"\n",
    "x=float(input('nhập hoành độ của M:'))\n",
    "y= float(input('nhập tung độ của M:'))\n",
    "a=float(input('nhập vào hoành độ của tâm I: '))\n",
    "b= float(input('nhập vào tung độ của tâm I:'))\n",
    "d=((a-x)**2 + (b-y)**2)**0.5\n",
    "r=float('nhập vào bán kính của đường tròn: ')\n",
    "if d>r:\n",
    "    print('M nằm ngoài đường tròn')\n",
    "elif d<r:\n",
    "    print('M nằm trong đường tròn')\n",
    "else:\n",
    "    print('M nằm trên đường tròn')"
   ]
  },
  {
   "cell_type": "code",
   "execution_count": null,
   "metadata": {},
   "outputs": [],
   "source": [
    "# 2.Viết một chương trình Python để kiểm tra xem một sinh viên\n",
    "# đã đỗ hay trượt môn học dựa trên điểm số nhập từ bàn phím.\n",
    "#  Điểm đỗ là từ 5.0 trở lên. Nếu sinh viên đỗ, in ra \"Chúc mừng! Bạn đã đỗ môn học.\"\n",
    "#  Nếu không, in ra \"Rất tiếc! Bạn đã trượt môn học.\"\n",
    "# Hướng đãn:\n",
    "# Nhập Điểm\n",
    "# Nếu diem >5 thì in ra \"Chúc mừng! Bạn đã đỗ môn học.\"\n",
    "# Nếu không, in ra \"Rất tiếc! Bạn đã trượt môn học.\"\n",
    "a=float(input('nhập vào điểm chuyên cần:'))\n",
    "b=float(input('nhập vào điểm giữa kì: '))\n",
    "c=float(input('nhập vào điểm cuối kỳ: '))\n",
    "DTB=a*0.1 +b*0,3 + c*0,6\n",
    "if DTB>=5.0:\n",
    "    print('bạn đã đỗ')\n",
    "else:\n",
    "    print('trượt')"
   ]
  },
  {
   "cell_type": "code",
   "execution_count": null,
   "metadata": {},
   "outputs": [],
   "source": [
    "#  3: Tính chỉ số BMI (Body Mass Index)\n",
    "# là công thức được tính bằng cân nặng (kilogram) chia cho bình phương chiều cao (mét)\n",
    "# (BMI = Cân nặng [kg]/bình phương Chiều cao [m^2])\n",
    "# Viết một chương trình Python để tính chỉ số BMI dựa trên cân nặng (kg) và\n",
    "# chiều cao (m) được nhập từ bàn phím. Sử dụng các mức chỉ số BMI sau:\n",
    "# Dưới 18.5: Gầy\n",
    "# Từ 18.5 đến 24.9: Bình thường\n",
    "# Từ 25.0 đến 29.9: Hơi béo\n",
    "# Từ 30.0 trở lên: Béo phì\n",
    "tall=float(input('nhập chiều cao (met):'))\n",
    "weight=float(input('nhập vào cân nặng (kilogram): '))\n",
    "while tall>3 or weight >300 or weight <0:\n",
    "    tall=float(input('nhập lại chiều cao (met):'))\n",
    "    weight=float(input('nhập lại vào cân nặng (kilogram): '))\n",
    "BMI = weight/(tall**2)\n",
    "if BMI <18.5:\n",
    "    print('gầy')\n",
    "elif BMI >=18.5 and BMI <=24.9:\n",
    "    print('bình thường')\n",
    "elif BMI >=25.00 and BMI<=29.9:\n",
    "    print('hơi béo')\n",
    "else:\n",
    "    print('béo phì')"
   ]
  },
  {
   "cell_type": "code",
   "execution_count": 2,
   "metadata": {},
   "outputs": [
    {
     "name": "stdout",
     "output_type": "stream",
     "text": [
      "ba cạnh vừa nhập có thể tạo thành một tam giác\n"
     ]
    }
   ],
   "source": [
    "# 4. Kiểm tra tam giác\n",
    "# Viết một chương trình Python để kiểm tra xem ba số nguyên nhập từ bàn phím\n",
    "# có tạo thành một tam giác hay không. Nếu có thể tạo thành tam giác,\n",
    "#  in ra \"Có thể tạo thành tam giác.\" Nếu không, in ra \"Không thể tạo thành tam giác.\"\n",
    "# # Hướng đãn: nhập độ dài 3 đoạn a,b,c\n",
    "# Nếu tổng của 2 trong 3 đoạn bất kì mà lớn hơn đoạn còn lại thì là \"Có thể tạo thành tam giác.\"\n",
    "# nếu không thì \"Không thể tạo thành tam giác.\"\n",
    "# ví dụ a =1, b=2 , c=3 thì ko thể tạo thành tam giác\n",
    "# a=2 b=2,c =3 thì Có thể tạo thành tam giác.\n",
    "a=int(input('nhập vào số nguyên: '))\n",
    "b=int(input('nhập vào số nguyên: '))\n",
    "c=int(input('nhập vào số nguyên: '))\n",
    "if a+b >c or a+c>b or b+c>a:\n",
    "    print('ba cạnh vừa nhập có thể tạo thành một tam giác')\n",
    "else: \n",
    "    print('ba cạnh vừa nhập không thể tạo thành một tam giác')\n",
    "    "
   ]
  },
  {
   "cell_type": "code",
   "execution_count": 5,
   "metadata": {},
   "outputs": [
    {
     "name": "stdout",
     "output_type": "stream",
     "text": [
      "3\n"
     ]
    }
   ],
   "source": [
    "# 5. Tìm số lớn thứ hai\n",
    "# Viết một chương trình Python để tìm số lớn thứ hai trong ba số nguyên nhập từ bàn phím.\n",
    "# In ra số lớn thứ hai.\n",
    "a=int(input('nhập vào 3 số nguyên: '))\n",
    "b=int(input('nhập vào 3 số nguyên: '))\n",
    "c=int(input('nhập vào 3 số nguyên: '))\n",
    "i=max(a,b,c)\n",
    "if a<b<c or c<b<a:\n",
    "    print(b)\n",
    "elif a<c<b or b<c<a:\n",
    "    print(c)\n",
    "else:\n",
    "    print(a)"
   ]
  },
  {
   "cell_type": "code",
   "execution_count": null,
   "metadata": {},
   "outputs": [],
   "source": [
    "# 6. Đánh giá điểm\n",
    "# Viết một chương trình Python để đánh giá điểm số từ 0 đến 100 dựa trên các khoảng điểm sau:\n",
    "\n",
    "# Từ 90 đến 100: Xuất sắc\n",
    "# Từ 80 đến 89: Giỏi\n",
    "# Từ 70 đến 79: Khá\n",
    "# Từ 60 đến 69: Trung bình\n",
    "# Dưới 60: Yếu\n",
    "a=int(input('nhập điểm vào: '))\n",
    "if a>=90 and a<=100:\n",
    "    print('xuất sắc')\n",
    "elif a<90 and a >=80:\n",
    "    print('giỏi')\n",
    "elif a<80 and a>=70:\n",
    "    print('khá')\n",
    "elif a>=60 and a<70:\n",
    "    print('trung bình')\n",
    "else:\n",
    "    print('yếu')"
   ]
  },
  {
   "cell_type": "code",
   "execution_count": 13,
   "metadata": {},
   "outputs": [
    {
     "name": "stdout",
     "output_type": "stream",
     "text": [
      "0.75\n",
      "đây không phải phân số  đơn giản\n"
     ]
    }
   ],
   "source": [
    "# 7. Viết một chương trình Python\n",
    "# để kiểm tra xem một phân số nhập từ bàn phím có phải là phân số đơn giản hay không.\n",
    "# Một phân số đơn giản là phân số mà tử số và mẫu số không có ước chung ngoài 1.\n",
    "# In ra \"Đây là phân số đơn giản\" nếu đúng và \"Đây không phải là phân số đơn giản\" nếu sai\n",
    "a=int(input('nhập tử số:'))\n",
    "b=int(input('nhập mẫu số:'))\n",
    "f=[]\n",
    "print(a/b)\n",
    "for i in range(1,max(a,b)+1):\n",
    "    if (a%i==0 and b%i==0):\n",
    "        f.append(i)\n",
    "if len(f)==1:\n",
    "    print('đây là phân số đơn giản')\n",
    "else:\n",
    "    print('đây không phải phân số  đơn giản')"
   ]
  },
  {
   "cell_type": "code",
   "execution_count": 2,
   "metadata": {},
   "outputs": [
    {
     "name": "stdout",
     "output_type": "stream",
     "text": [
      "lương nhận được là:  10.5\n"
     ]
    }
   ],
   "source": [
    "# 1. nhập lương nhân viên, tính thuế thu nhập và\n",
    "# lương ròng (số tiền lương thực sự mà nhân viên đó nhận được).\n",
    "# Với các thông số giả sử như sau\n",
    "# (không theo luật lương, chỉ là con số giả sử để dễ tính toán):\n",
    "# Nhập hoan_canh là 1 thì là gia đinh khó khăn. nhập 0 thì gia đinh bt\n",
    "# Nếu gia đình khó khăn thì miễn thuế\n",
    "  # TÍnh 30% thuế thu nhập nếu lương trên 15 triệu. TÍnh lương ròng = lương - lương * 30%\n",
    "  # 20% thuế thu nhập nếu lương từ 7 đến 15 triệu.  TÍnh lương ròng = lương - lương * 20%\n",
    "  # 10% thuế thu nhập nếu lương dưới 7 triệu.  TÍnh lương ròng = lương - lương * 10%\n",
    "salary= float(input('nhập lương nhân viên (triệu):'))\n",
    "situation= input('1 hoặc 0')\n",
    "match situation:\n",
    "    case '1':\n",
    "      print('lương nhận được là: ',salary)\n",
    "    case '0':\n",
    "      if salary >=15:\n",
    "         gross= salary*0.7\n",
    "      elif salary <15 and salary >=7:\n",
    "         gross = salary* 0.8\n",
    "      else:\n",
    "         gross= salary*0.9\n",
    "      print('lương nhận được là: ',gross)"
   ]
  },
  {
   "cell_type": "code",
   "execution_count": null,
   "metadata": {},
   "outputs": [],
   "source": [
    "# 2. để nhập tuổi và in ra kết quả nếu tuổi học sinh đó\n",
    "# không đủ điều kiện vào học lớp 10.\n",
    "# Biết tuổi vào lớp 10 của học sinh là 16.\n",
    "# nhập điểm vào 10: toán văn anh\n",
    "# nếu đủ tuổi  thì kiểm tra điểm nếu tong điểm >20 thì đỗ\n",
    "# ngược lại trượt\n",
    "age= int(input('nhập tuổi:'))\n",
    "if age>=16:\n",
    "    math=float(input('nhập điểm toán:'))\n",
    "    literature= float(input('nhập điểm văn:'))\n",
    "    english= float(input('nhập điểm tiếng anh:'))\n",
    "    if math+ literature + english >20:\n",
    "        print('đỗ')\n",
    "    else:\n",
    "        print('trượt')\n",
    "else:\n",
    "    print('trượt')"
   ]
  },
  {
   "cell_type": "code",
   "execution_count": null,
   "metadata": {},
   "outputs": [],
   "source": [
    "# 3.nhập một số nguyên bất kỳ từ bàn phím và\n",
    "# in kết quả ra màn hình để thông báo cho người dùng biết số đó lớn\n",
    "# hay nhỏ hơn 100.\n",
    "a=float(input('nhập số bất kì:'))\n",
    "if a<100:\n",
    "    print('số nhỏ hơn 100')\n",
    "elif a==100:\n",
    "    print('bằng 100')\n",
    "else:\n",
    "    print('lớn hơn 100')"
   ]
  },
  {
   "cell_type": "code",
   "execution_count": null,
   "metadata": {},
   "outputs": [],
   "source": [
    "# 4.xếp hạng học lực của học sinh dựa trên các điểm bài kiểm tra toán, văn anh. Nếu:\n",
    "\n",
    "# Nếu Điểm trung bình >= 9.0 là hạng A.\n",
    "    # Nếu điểm điểm toán >9 thì là in ra đủ điều kiện thi toán chuyên\n",
    "    # Nếu điểm điểm văn >9 thì là in ra đủ điều kiện thi văn chuyên\n",
    "    # Nếu điểm điểm anh >9 thì là in ra đủ điều kiện thi anh chuyên\n",
    "# Điểm trung bình >=7.0 và < 9.0 là hạng B\n",
    "# Điểm trung bình >=5.0 và < 7.0 là hạng C\n",
    "# Điểm trung bình <5.0 là hạng F\n",
    "math=float(input('nhập điểm toán:'))\n",
    "literature= float(input('nhập điểm văn:'))\n",
    "english= float(input('nhập điểm tiếng anh:'))\n",
    "avg= (math+literature+english)/3\n",
    "if avg>=9:\n",
    "    print('loại A')\n",
    "    if math >9 :\n",
    "        print('đủ điều kiện thi chuyên Toán')\n",
    "    if literature >9:\n",
    "        print('đủ điều kiện thi văn chuyên')\n",
    "    if english >9:\n",
    "        print('đủ điều kiện thi chuyên anh')\n",
    "elif avg>=7 and avg<9:\n",
    "    print('hạng B')\n",
    "elif avg>=5 and avg<7:\n",
    "    print('hạng C')\n",
    "else:\n",
    "    print('hạng D')"
   ]
  },
  {
   "cell_type": "code",
   "execution_count": null,
   "metadata": {},
   "outputs": [],
   "source": [
    "# 5. Cửa hàng của bạn nhận gửi bán sản phẩm cho một công ty khác và hưởng hoa hồng, với mức hoa hồng theo doanh số bán như sau:\n",
    "# Nhập số nhân viên của công ty\n",
    "#  nếu tổng doanh số nhỏ hơn hoặc bằng 100 triệu.\n",
    "    # # TÍnh hoa hồng của mỗi nv\n",
    "    # # Nếu số nhân viên >20 thì hoa hồng cho mỗi nhân viên là 3%\n",
    "    #   còn lại là 5%\n",
    "# nếu tổng doanh số nhỏ hơn hoặc bằng 300 triệu.\n",
    "  # TÍnh hoa hồng của mỗi nv\n",
    "    # # Nếu số nhân viên >20 thì hoa hồng cho mỗi nhân viên là 4%\n",
    "    #   còn lại là 6%\n",
    "# nếu tổng doanh số là lớn hơn 300 triệu.\n",
    "  # TÍnh hoa hồng của mỗi nv\n",
    "    # # Nếu số nhân viên >20 thì hoa hồng cho mỗi nhân viên là 5%\n",
    "    #   còn lại là 7%\n",
    "staffs= int(input('nhập số nhân viên'))\n",
    "sales= float(input('nhập doanh số:'))\n",
    "if sales <=100:\n",
    "  if staffs> 20:\n",
    "    bc=sales*0.03 #business_commision\n",
    "  else:\n",
    "    bc= sales*0.05\n",
    "elif sales <=300 and sales>100:\n",
    "  if staffs> 20:\n",
    "    bc=sales*0.04 #business_commision\n",
    "  else:\n",
    "    bc= sales*0.06\n",
    "else:\n",
    "  if staffs> 20:\n",
    "    bc=sales*0.05 #business_commision\n",
    "  else:\n",
    "    bc= sales*0.07\n",
    "print('hoa hồng mỗi nhân viên nhận được là: ',bc)"
   ]
  },
  {
   "cell_type": "code",
   "execution_count": 3,
   "metadata": {},
   "outputs": [
    {
     "name": "stdout",
     "output_type": "stream",
     "text": [
      "số tiền phải trả là: 31.0 nghìn đồng\n"
     ]
    }
   ],
   "source": [
    "# 6.tính cước điện thoại bàn cho một hộ gia đình với các thông số như sau:\n",
    "\n",
    "# Phí thuê bao bắt buộc là 25 nghìn.\n",
    "# 600 đồng cho mỗi phút gọi của 50 phút đầu tiên.\n",
    "# 400 đồng cho mỗi phút gọi của 150 phút tiếp theo.\n",
    "# 200 đồng cho bất kỳ phút gọi nào sau 150 phút đầu tiên.\n",
    "call=float(input('nhập số phút:'))\n",
    "if call <=50:\n",
    "    pay=call *0.6\n",
    "elif call >50 and call <=200:\n",
    "    pay= 50*0.6 + (call-50)*0.4\n",
    "else:\n",
    "    pay= 50*0.6 + 150*0.4 + (call-200)*0.2\n",
    "print('số tiền phải trả là: {} nghìn đồng'.format(pay+25))"
   ]
  },
  {
   "cell_type": "code",
   "execution_count": null,
   "metadata": {},
   "outputs": [],
   "source": [
    "# 1. Viết một chương trình Python để kiểm tra một số nguyên đã cho có phải là số chẵn dương hay không.\n",
    "#  Nếu số đó là số chẵn dương,\n",
    "#  in ra \"Số đã cho là số chẵn dương.\"\n",
    "# Nếu không, in ra \"Số đã cho không phải là số chẵn dương.\"\n",
    "x= int(input('nhập số:'))\n",
    "if x>0:\n",
    "    if x%2==0:\n",
    "        print('số vừa nhập là số chẵn dương')\n",
    "else:\n",
    "    print('số đã cho không phải số chẵn dương')"
   ]
  },
  {
   "cell_type": "code",
   "execution_count": null,
   "metadata": {},
   "outputs": [],
   "source": [
    "# 2. Viết chương trình Python để đánh giá loại tam giác dựa trên độ dài ba cạnh đã cho.\n",
    "# Nếu ba cạnh đủ điều kiện để tạo thành một tam giác, in ra loại tam giác tương ứng (như tam giác đều, tam giác vuông,\n",
    "# tam giác cân, tam giác thường). Nếu không, in ra \"Không phải là tam giác\".\n",
    "a=int(input('nhập vào số nguyên: '))\n",
    "b=int(input('nhập vào số nguyên: '))\n",
    "c=int(input('nhập vào số nguyên: '))\n",
    "if a+b >c or a+c>b or b+c>a:\n",
    "    print('ba cạnh vừa nhập có thể tạo thành một tam giác')\n",
    "    if a==b==c:\n",
    "        print('tam giác đều')\n",
    "    elif a**2 +b**2 ==c**2 or a**2 + c**2 ==b**2 or b**2 + c**2 == a**2:\n",
    "        print('tam goác vuông')\n",
    "    elif a==b or b==c or a==c:\n",
    "        print('tam giác cân')\n",
    "    else:\n",
    "        print('tam giác thường')\n",
    "else: \n",
    "    print('ba cạnh vừa nhập không thể tạo thành một tam giác')"
   ]
  },
  {
   "cell_type": "code",
   "execution_count": null,
   "metadata": {},
   "outputs": [],
   "source": [
    "# 3. Viết chương trình Python để tính số ngày trong một tháng đã cho.\n",
    "# Yêu cầu người dùng nhập vào tháng và năm,\n",
    "#  sau đó in ra số ngày tương ứng.\n",
    "# Cần xử lý cả trường hợp năm nhuận.\n",
    "month= input('nhập tháng:')\n",
    "match month:\n",
    "    case '1', '3', '5', '7', '8' , '10' ,'12':\n",
    "        print('tháng {} có 31 ngày'.format(month))\n",
    "    case '4','6','9','11':\n",
    "        print('tháng {} có 30 ngày'.format(month))\n",
    "    case '2':\n",
    "        year= int(input('nhập năm:'))\n",
    "        if year %4==0:\n",
    "            print('tháng {} năm {} có 29 ngày'.format(month,year))\n",
    "        else:\n",
    "            print('tháng {} năm {} có 28 ngày'.format(month,year))"
   ]
  },
  {
   "cell_type": "code",
   "execution_count": null,
   "metadata": {},
   "outputs": [],
   "source": [
    "# 1.Viết một chương trình đơn giản để kiểm tra tuổi của người dùng và in ra thông báo tương ứng.\n",
    "\n",
    "# Yêu cầu:\n",
    "# mỗi thể loại phim sẽ in ra 3 tên phim theo chủ đề\n",
    "# Nếu tuổi người dùng lớn hơn hoặc bằng 10, in ra thông báo \"Bạn đã đủ tuổi để truy cập vào những thể  loại phim có nội dung bạo lực.\"\n",
    "#   Nhập sự lựa chon là số nguyên trong khoảng 1 ->4\n",
    "#   Nếu =1 thì in ra bạn chọn phim hành động\n",
    "#   Nếu =2 thì in ra bạn chọn phim tình cảm\n",
    "#   Nếu =3 thì in ra bạn chọn phim cổ trang\n",
    "#   Nếu =4 thì in ra bạn chọn phim viễn tưởng\n",
    "# Nếu tuổi người dùng nhỏ hơn 10, in ra thông báo \"Bạn chưa đủ tuổi để truy cập vào những thể  loại phim có nội dung dành cho thiếu nhi.\"\n",
    "#   #Nhập sự lựa chon là số nguyên trong khoảng 1 ->4\n",
    "#   Nếu =1 thì in ra bạn chọn phim hoạt hình\n",
    "#   Nếu =2 thì in ra bạn chọn phim siêu nhân\n",
    "#   Nếu =3 thì in ra bạn chọn chương trình giáo dục\n",
    "#   Nếu =4 thì in ra bạn chọn phim thiếu nhi\n",
    "age= int(input('nhập tuổi '))\n",
    "if age >10:\n",
    "    print('Bạn đã đủ tuổi để truy cập vào những thể loại phim có nội dung bạo lực.')\n",
    "    option = input('nhập sự lựa chon là số nguyên trong khoảng 1 ->4'.strip())\n",
    "    match option:\n",
    "        case '1':\n",
    "            print('bạn chọn phim hành động')\n",
    "        case '2':\n",
    "            print('bạn chọn phim tình cảm')\n",
    "        case '3':\n",
    "            print('bạn chọn phim cổ trang')\n",
    "        case '4':\n",
    "            print('bạn chọn phim viễn tưởng')\n",
    "else:\n",
    "    print(\"Bạn có thể truy cập vào những thể loại phim có nội dung dành cho thiếu nhi.\")\n",
    "        option = input('Nhập sự lựa chon là số nguyên trong khoảng 1 ->4'.strip())\n",
    "    match option:\n",
    "        case '1':\n",
    "            print('bạn chọn phim hoạt hình')\n",
    "        case '2':\n",
    "            print('bạn chọn phim siêu nhân')\n",
    "        case '3':\n",
    "            print('bạn chọn chương trình giáo dục')\n",
    "        case '4':\n",
    "            print('bạn chọn phim thiếu nhi')"
   ]
  },
  {
   "cell_type": "code",
   "execution_count": 26,
   "metadata": {},
   "outputs": [
    {
     "name": "stdout",
     "output_type": "stream",
     "text": [
      "năm 2018 ở thập niên 2010 của thế kỷ 21\n"
     ]
    }
   ],
   "source": [
    "# 2. Viết chương trình kiểm tra một năm có phải là năm đầu tiên của một thế kỷ hay không.\n",
    "#   Nếu là năm đầu tiên của thế kỉ thì sẽ là năm đó ở thế kỉ bao nhiêu và in ra kết quả\n",
    "#   Nếu không là năm đầu tiên của thé kỉ thì kiểm tra năm đó ở thập kĩ bao nhiêu và in ra kết quả\n",
    "year= int(input('nhập năm:'))\n",
    "if year % 100==0:\n",
    "  print('năm {} là năm đầu của thế kỷ {}'.format(year,year/100+1))\n",
    "else:\n",
    "  x=(year- (year//1000)*1000)//10*10 +year//1000*1000\n",
    "  print('năm {} ở thập niên {} của thế kỷ {}'.format(year,x,year//100+1))"
   ]
  },
  {
   "cell_type": "code",
   "execution_count": null,
   "metadata": {},
   "outputs": [],
   "source": [
    "#   3. Nhập 3 cạnh của tam giác\n",
    "# kiểm tra 3 cạnh đó có tạo thành tam giác không\n",
    "# Nếu có thì  Kiếm tra tam giác đó là tam giác gì?\n",
    "#   # Nhập chọn là số 1 hoặc 2\n",
    "#   Nếu chọn ==1 thì Tính diện tích\n",
    "#   Nếu chọn ==2 thì tính chu vi của tam giác đó\n",
    "a=int(input('nhập vào số nguyên: '))\n",
    "b=int(input('nhập vào số nguyên: '))\n",
    "c=int(input('nhập vào số nguyên: '))\n",
    "p=(a+b+c)/2\n",
    "if a+b >c or a+c>b or b+c>a:\n",
    "    print('ba cạnh vừa nhập có thể tạo thành một tam giác')\n",
    "    option= input('chọn 1 hoặc 2')\n",
    "    if a==b==c:\n",
    "                print('tam giác đều')\n",
    "            elif a**2 +b**2 ==c**2 or a**2 + c**2 ==b**2 or b**2 + c**2 == a**2 :\n",
    "                print('tam giác vuông')\n",
    "            elif a==b or b==c or a==c:\n",
    "                print('tam giác cân')\n",
    "            else:\n",
    "                print('tam giác thường')\n",
    "    match option:\n",
    "        case '1':\n",
    "            S= (p*(p-a)*(p-b)*(p-c))**0.5\n",
    "            print('diện tích tam giác là: ',S)\n",
    "        case '2':\n",
    "            print('chu vi tam giác là: ',p*2)\n",
    "else: \n",
    "    print('ba cạnh vừa nhập không thể tạo thành một tam giác')"
   ]
  },
  {
   "cell_type": "code",
   "execution_count": 1,
   "metadata": {},
   "outputs": [
    {
     "name": "stdout",
     "output_type": "stream",
     "text": [
      "3\n"
     ]
    }
   ],
   "source": [
    "# 7. Nhập 1 số nguyên n Tính tổng các phần tử là ước của n\n",
    "# trong khoảng [1,n)\n",
    "n= int(input('nhập n:'))\n",
    "s=0\n",
    "for i in range(1,n):\n",
    "    if n%i==0:\n",
    "        s+=i\n",
    "print(s)"
   ]
  },
  {
   "cell_type": "code",
   "execution_count": 3,
   "metadata": {},
   "outputs": [
    {
     "name": "stdout",
     "output_type": "stream",
     "text": [
      "4\n"
     ]
    }
   ],
   "source": [
    "#7. Nhập n ,k là số nguyên.\n",
    "# Nếu k>n thì\n",
    "#   in ra các phần tử trong khoảng [n,k) chia hết cho 2\n",
    "# Nếu n>k thì in ra các phần tử trong khoảng [k,n) chia hết cho 3\n",
    "n= int(input('nhập n'))\n",
    "k= int(input('nhập k'))\n",
    "if k>n:\n",
    "    for i in (n,k):\n",
    "        if i%2==0:\n",
    "            print(i)\n",
    "else:\n",
    "    for j in (k,n):\n",
    "        if j%3==0:\n",
    "            print(j)"
   ]
  },
  {
   "cell_type": "code",
   "execution_count": null,
   "metadata": {},
   "outputs": [],
   "source": [
    "# 8. Nhập n ,k là số nguyên. in ra các phần tử là ước của k và n\n"
   ]
  },
  {
   "cell_type": "code",
   "execution_count": null,
   "metadata": {},
   "outputs": [],
   "source": [
    "# 9. Nhập n,k là số nguyên.\n",
    "# Nếu k>n thì Tính tổng các phần tử trong khoảng [n,k) chia hết cho 2.\n",
    "# Nếu n>k thì Tính tổng các phần tử  trong khoảng [k,n) chia hết cho 3\n",
    "# in ra kết quả tổng đó\n",
    "\n",
    "# 10. Nhập n,k là số nguyên.\n",
    "# Nếu k>n thì Tính tổng các phần tử trong khoảng [n,k) .Tính tổng chẵn\n",
    "# Nếu n>k thì Tính tổng các phần tử  trong khoảng [k,n). Tính tổng lẻ\n",
    "# in ra kết quả tổng đó\n",
    "\n",
    "# 11. Nhập 1 số nguyên n. Tính tổng các chữ số chẵn trong khoảng [1,n)\n",
    "# 12. Nhập 1 số  nguyên n. Tính các tổng các chũ số lẻ trong khoảng [0,n)\n",
    "\n",
    "# 13. Nhập n,k là số nguyên.\n",
    "# Nếu k>n thì Tính tổng các phần tử trong khoảng [n,k) .Tính tổng các phần tử  là ước của k\n",
    "# Nếu n>k thì Tính tổng các phần tử  trong khoảng [k,n). Tính tổng các phần tử  là ước của (n+1)\n",
    "# in ra kết quả tổng đó\n",
    "\n",
    "# 14. Nhập n,k là số nguyên.\n",
    "# Nếu k>n thì Tính tổng các phần tử trong khoảng [n,k) .Tính tổng các phần tử  là ước của (k-1)\n",
    "# Nếu n>k thì Tính tổng các phần tử  trong khoảng [k,n). Tính tổng các phần tử  là ước của (n+1)\n",
    "# in ra kết quả tổng đó\n",
    "\n",
    "\n",
    "\n",
    "# 15. Nhập n,k là số nguyên.\n",
    "# Nếu k>n thì  khoảng [n,k) .Tính tổng các phần tử  là chia het ca cho 2 va 3\n",
    "# Nếu n>k thì Tính [k,n). Tính tich các phần tử  là chia het ca cho 2 va 3\n",
    "# in ra kết quả tổng đó\n",
    "\n",
    "\n",
    "# 16. Nhập n,k là số nguyên.\n",
    "# Nếu k>n thì  Tính tổng các phần tử trong khoảng [n,k) .Tính tich các phần tử  là uoc cua tong truoc\n",
    "# Nếu n>k thì Tính [k,n). Tính tich các phần tử  là chia het ca cho 2 va 3\n",
    "# in ra kết quả tổng đó\n",
    "\n",
    "# 17. Nhập n,k là số nguyên.\n",
    "# Nếu k>n thì  Tính tổng các phần tử vừa chẵn và lớn hơn số có 1 chữ số\n",
    "# Nếu n>k thì Tính [k,n). Tính tổng phần tử vừa lẻ và nhỏ hơn số có 2 chữ số\n",
    "# in ra kết quả tổng đó\n",
    "\n",
    "# 18. Nhập n,k là số nguyên.\n",
    "# Nếu k>n thì  Tính tổng các phần tử vừa chẵn và và là ước của k\n",
    "# Nếu n>k thì Tính [k,n). Tính tổng phần tử vừa lẻ và lớn hơn 100\n",
    "# in ra kết quả tổng đó\n",
    "\n",
    "#19. Nhập n,k là số nguyên.\n",
    "# Nếu k>n thì  tích các phần tử là ước của k và chia hết 2 và 5\n",
    "# Nếu n>k thì Tính [k,n). tổng các phần tử là ước của k và chia hết 2 và 3\n",
    "# in ra kết quả tổng đó\n",
    "\n"
   ]
  }
 ],
 "metadata": {
  "kernelspec": {
   "display_name": "Python 3",
   "language": "python",
   "name": "python3"
  },
  "language_info": {
   "codemirror_mode": {
    "name": "ipython",
    "version": 3
   },
   "file_extension": ".py",
   "mimetype": "text/x-python",
   "name": "python",
   "nbconvert_exporter": "python",
   "pygments_lexer": "ipython3",
   "version": "3.11.1"
  },
  "orig_nbformat": 4
 },
 "nbformat": 4,
 "nbformat_minor": 2
}
